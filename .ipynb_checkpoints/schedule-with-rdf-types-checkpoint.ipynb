{
 "cells": [
  {
   "cell_type": "markdown",
   "metadata": {},
   "source": [
    "# Notebook για την παραγωγή των δεδομένων N-Triples (εργασία μαθήματος).\n",
    "\n",
    "Χρησιμοποιήστε κώδικα από τα notebooks προηγούμενων εργαστηρίων με τις κατάλληλες αλλαγές για να συμπληρώσετε το ζητούμενο αρχείο `schedule-data.nt` της εργασίας του μαθήματος. Μην ξεχάσετε να εισάγετε τις τριάδες με το κατηγόρημα `rdf:type`!\n",
    "\n",
    "Προσθέστε τον κώδικά σας στα επόμενα κελιά."
   ]
  },
  {
   "cell_type": "code",
   "execution_count": null,
   "metadata": {
    "collapsed": true
   },
   "outputs": [],
   "source": [
    "mport csv\n",
    "uri = []\n",
    "with open('uri.csv','r',newline='') as ifp:\n",
    "    reader = csv.reader(ifp)\n",
    "    for row in reader:\n",
    "            uri.append(row)\n",
    "triple=[]\n",
    "type = '<http://www.w3.org/1999/02/22-rdf-syntax-ns#type>'\n",
    "Lecture = '<http://dilab77.ionio.gr/swp/c17tser/vocab#Lecture>'\n",
    "\n",
    "Start = '<http://dilab77.ionio.gr/swp/c17tser/vocab#Έναρξη>'\n",
    "End =  '<http://dilab77.ionio.gr/swp/c17tser/vocab#Λήξη>'\n",
    "\n",
    "Day = '<http://dilab77.ionio.gr/swp/c17tser/vocab#Ημέρα>'\n",
    "\n",
    "Lecturer = '<http://dilab77.ionio.gr/swp/c17tser/vocab#Καθηγητής>'\n",
    "Room = '<http://dilab77.ionio.gr/swp/c17tser/vocab#Άιθουσα>'\n",
    "Module ='<http://dilab77.ionio.gr/swp/c17tser/vocab#Μάθημα>'\n",
    "\n",
    "    \n",
    "def writer(ofp, a1, a2, a3):\n",
    "    print('{} {} {} .'.format(\n",
    "                a1,\n",
    "                a2,\n",
    "                a3\n",
    "                )\n",
    "                )\n",
    "    ofp.write('{} {} {} . \\n'.format(\n",
    "                a1,\n",
    "                a2,\n",
    "                a3)\n",
    "                )\n",
    "\n",
    "with open('schedule-data.nt','w') as ofp:\n",
    "    visited=set()\n",
    "    for s,p,o in uri:\n",
    "        if s not in visited:\n",
    "            visited.add(s)\n",
    "                \n",
    "            writer(s,type,Lecture)\n",
    "                \n",
    "        if o.startswith('http:'):\n",
    "            o='<'+o+'>'\n",
    "        p='<'+p+'>'   \n",
    "        if p == Start or p == End :\n",
    "            o= '\"0' + o+':00:00'+'\"^^<http://www.w3.org/2001/XMLSchema#time>'\n",
    "        if p== Day:\n",
    "            o='\"'+o+'\"'\n",
    "        triple.append((s,p,o))\n",
    "\n",
    "        if p == Lecturer and o not in visited:\n",
    "            visited.add(o)\n",
    "            writer(\n",
    "                o,\n",
    "                type,\n",
    "                '<http://dilab77.ionio.gr/swp/c17tser/vocab#Lecturer>')\n",
    "        if p == Room: and o not in visited:\n",
    "            visited.add(o)\n",
    "            writer(\n",
    "                o,\n",
    "                type,\n",
    "                '<http://dilab77.ionio.gr/swp/c17tser/vocab#Room>')\n",
    "\n",
    "        if p == Module and o not in visited:\n",
    "            visited.add(o)\n",
    "            writer(\n",
    "                o,\n",
    "                type,\n",
    "                '<http://dilab77.ionio.gr/swp/c17tser/vocab#Module>')\n"
   ]
  }
 ],
 "metadata": {
  "kernelspec": {
   "display_name": "Python 2",
   "language": "python",
   "name": "python2"
  },
  "language_info": {
   "codemirror_mode": {
    "name": "ipython",
    "version": 2
   },
   "file_extension": ".py",
   "mimetype": "text/x-python",
   "name": "python",
   "nbconvert_exporter": "python",
   "pygments_lexer": "ipython2",
   "version": "2.7.6"
  }
 },
 "nbformat": 4,
 "nbformat_minor": 1
}
